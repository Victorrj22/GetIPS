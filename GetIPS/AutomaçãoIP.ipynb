{
 "cells": [
  {
   "cell_type": "code",
   "execution_count": 39,
   "metadata": {},
   "outputs": [
    {
     "name": "stdout",
     "output_type": "stream",
     "text": [
      "Requirement already satisfied: pyautogui in c:\\users\\joãovictorsoaresjord\\appdata\\local\\programs\\python\\python312\\lib\\site-packages (0.9.54)\n",
      "Requirement already satisfied: pymsgbox in c:\\users\\joãovictorsoaresjord\\appdata\\local\\programs\\python\\python312\\lib\\site-packages (from pyautogui) (1.0.9)\n",
      "Requirement already satisfied: pytweening>=1.0.4 in c:\\users\\joãovictorsoaresjord\\appdata\\local\\programs\\python\\python312\\lib\\site-packages (from pyautogui) (1.2.0)\n",
      "Requirement already satisfied: pyscreeze>=0.1.21 in c:\\users\\joãovictorsoaresjord\\appdata\\local\\programs\\python\\python312\\lib\\site-packages (from pyautogui) (0.1.30)\n",
      "Requirement already satisfied: pygetwindow>=0.0.5 in c:\\users\\joãovictorsoaresjord\\appdata\\local\\programs\\python\\python312\\lib\\site-packages (from pyautogui) (0.0.9)\n",
      "Requirement already satisfied: mouseinfo in c:\\users\\joãovictorsoaresjord\\appdata\\local\\programs\\python\\python312\\lib\\site-packages (from pyautogui) (0.1.3)\n",
      "Requirement already satisfied: pyrect in c:\\users\\joãovictorsoaresjord\\appdata\\local\\programs\\python\\python312\\lib\\site-packages (from pygetwindow>=0.0.5->pyautogui) (0.2.0)\n",
      "Requirement already satisfied: pyperclip in c:\\users\\joãovictorsoaresjord\\appdata\\local\\programs\\python\\python312\\lib\\site-packages (from mouseinfo->pyautogui) (1.8.2)\n",
      "Note: you may need to restart the kernel to use updated packages.\n",
      "Requirement already satisfied: pyperclip in c:\\users\\joãovictorsoaresjord\\appdata\\local\\programs\\python\\python312\\lib\\site-packages (1.8.2)\n",
      "Note: you may need to restart the kernel to use updated packages.\n",
      "Requirement already satisfied: netifaces in c:\\users\\joãovictorsoaresjord\\appdata\\local\\programs\\python\\python312\\lib\\site-packages (0.11.0)\n",
      "Note: you may need to restart the kernel to use updated packages.\n"
     ]
    },
    {
     "name": "stderr",
     "output_type": "stream",
     "text": [
      "ERROR: unknown command \"installl\" - maybe you meant \"install\"\n",
      "\n"
     ]
    },
    {
     "name": "stdout",
     "output_type": "stream",
     "text": [
      "Note: you may need to restart the kernel to use updated packages.\n",
      "Requirement already satisfied: pandas in c:\\users\\joãovictorsoaresjord\\appdata\\local\\programs\\python\\python312\\lib\\site-packages (2.2.2)\n",
      "Note: you may need to restart the kernel to use updated packages.\n",
      "Requirement already satisfied: numpy>=1.26.0 in c:\\users\\joãovictorsoaresjord\\appdata\\local\\programs\\python\\python312\\lib\\site-packages (from pandas) (1.26.4)\n",
      "Requirement already satisfied: python-dateutil>=2.8.2 in c:\\users\\joãovictorsoaresjord\\appdata\\local\\programs\\python\\python312\\lib\\site-packages (from pandas) (2.9.0.post0)\n",
      "Requirement already satisfied: pytz>=2020.1 in c:\\users\\joãovictorsoaresjord\\appdata\\local\\programs\\python\\python312\\lib\\site-packages (from pandas) (2024.1)\n",
      "Requirement already satisfied: tzdata>=2022.7 in c:\\users\\joãovictorsoaresjord\\appdata\\local\\programs\\python\\python312\\lib\\site-packages (from pandas) (2024.1)\n",
      "Requirement already satisfied: six>=1.5 in c:\\users\\joãovictorsoaresjord\\appdata\\local\\programs\\python\\python312\\lib\\site-packages (from python-dateutil>=2.8.2->pandas) (1.16.0)\n",
      "Requirement already satisfied: tqdm in c:\\users\\joãovictorsoaresjord\\appdata\\local\\programs\\python\\python312\\lib\\site-packages (4.66.2)Note: you may need to restart the kernel to use updated packages.\n",
      "\n",
      "Requirement already satisfied: colorama in c:\\users\\joãovictorsoaresjord\\appdata\\roaming\\python\\python312\\site-packages (from tqdm) (0.4.6)\n"
     ]
    },
    {
     "name": "stderr",
     "output_type": "stream",
     "text": [
      "ERROR: Could not find a version that satisfies the requirement openpyx1 (from versions: none)\n",
      "ERROR: No matching distribution found for openpyx1\n"
     ]
    },
    {
     "name": "stdout",
     "output_type": "stream",
     "text": [
      "Note: you may need to restart the kernel to use updated packages.\n"
     ]
    }
   ],
   "source": [
    "# installs\n",
    "%pip install pyautogui\n",
    "%pip install pyperclip\n",
    "%pip install netifaces \n",
    "%pip installl scapy\n",
    "%pip install pandas\n",
    "%pip install tqdm\n",
    "%pip install openpyx1"
   ]
  },
  {
   "cell_type": "code",
   "execution_count": 40,
   "metadata": {},
   "outputs": [],
   "source": [
    "# imports\n",
    "import pyautogui\n",
    "import pyperclip\n",
    "import ipaddress\n",
    "import multiprocessing\n",
    "import netifaces as ni\n",
    "from scapy.all import Ether, ARP, srp\n",
    "from concurrent.futures import ThreadPoolExecutor\n",
    "import datetime\n",
    "import pandas as pd\n",
    "import tqdm as progress_bar\n"
   ]
  },
  {
   "cell_type": "code",
   "execution_count": 41,
   "metadata": {},
   "outputs": [
    {
     "name": "stdout",
     "output_type": "stream",
     "text": [
      "IPs a serem verificados na rede:  254\n"
     ]
    },
    {
     "name": "stderr",
     "output_type": "stream",
     "text": [
      "100%|██████████| 254/254 [17:13<00:00,  4.07s/it]\n"
     ]
    }
   ],
   "source": [
    "interface = ni.gateways()['default'][ni.AF_INET][1]\n",
    "\n",
    "# Obter o endereço IP e a máscara de rede da interface de rede\n",
    "ip_addr = ni.ifaddresses(interface)[ni.AF_INET][0]['addr']\n",
    "net_mask = ni.ifaddresses(interface)[ni.AF_INET][0]['netmask']\n",
    "\n",
    "# Encontra todos os IPs no range da máscara de rede\n",
    "network = ipaddress.IPv4Network(ip_addr + '/' + net_mask, strict=False)\n",
    "\n",
    "ips_in_network = [str(ip) for ip in network.hosts()]\n",
    "\n",
    "#ips_na_rede = ['192.168.1.1'] # todo: remover!!!!!!!!!!!!!!!!!!!!!!!!!!!!!!!!!!!!! \n",
    "print(\"IPs a serem verificados na rede: \", len(ips_in_network))\n",
    "connected_devices = []\n",
    "\n",
    "progress = progress_bar.tqdm(ips_in_network)"
   ]
  },
  {
   "cell_type": "code",
   "execution_count": 42,
   "metadata": {},
   "outputs": [],
   "source": [
    "# funcoes\n",
    "def ping_an_ip(ip):\n",
    "    progress.update(1)\n",
    "    answer = srp(Ether(dst=\"ff:ff:ff:ff:ff:ff\")/ARP(pdst=ip), timeout=7, verbose=0)[0]\n",
    "    if answer:\n",
    "        connected_devices.append({'IP': answer[0][1].psrc, 'MAC': answer[0][1].hwsrc})\n",
    "\n",
    "def open_gmail():\n",
    "    #seleciona ícone do navegador, abre nova guia e acessa o gmail\n",
    "    pyautogui.click(1023, 1053)\n",
    "    pyautogui.hotkey('ctrl', 't')\n",
    "    pyperclip.copy(text=\"https://mail.google.com/mail/u/0/?ogbl#inbox\")\n",
    "    pyautogui.hotkey('ctrl', 'v')\n",
    "    pyautogui.PAUSE = 5\n",
    "    pyautogui.press('enter')    \n",
    "    pyautogui.PAUSE = 1\n",
    "\n",
    "def create_email_message():\n",
    "    #cria nova mensagem, adiciona email para envio e adiciona um título\n",
    "    pyautogui.click(189, 192)\n",
    "    pyperclip.copy(text=\"victorsoaresrj@hotmail.com\")\n",
    "    pyautogui.hotkey('ctrl', 'v')\n",
    "    pyautogui.press('tab')\n",
    "    pyperclip.copy(text=\"Informações atualizadas dos ips encontrados\")\n",
    "    pyautogui.hotkey('ctrl', 'v')\n",
    "\n",
    "def attach_file_and_send_email():\n",
    "    #abre pagina de anexo, navega até o arquivo, e sobe no corpo do email\n",
    "    # abre opcao de anexo\n",
    "    pyautogui.click(898, 984)\n",
    "\n",
    "    # seleciona opcao de navegar até o arquivo\n",
    "    pyautogui.click(665, 52)\n",
    "    pyperclip.copy(text=r\"C:\\Users\\JoãoVictorSoaresJord\\Documents\\ArquivoDaAutomação\")\n",
    "    pyautogui.hotkey('ctrl', 'v')\n",
    "    pyautogui.press('enter')\n",
    "\n",
    "    # seleciona arquivo\n",
    "    pyautogui.click(402, 161)\n",
    "    pyautogui.press('enter')\n",
    "\n",
    "    # envia email\n",
    "    pyautogui.click(750, 996)"
   ]
  },
  {
   "cell_type": "code",
   "execution_count": 43,
   "metadata": {},
   "outputs": [
    {
     "name": "stdout",
     "output_type": "stream",
     "text": [
      "Verificando dispositivos conectados na rede\n",
      "Número de núcleos disponíveis para a tarefa: 16\n"
     ]
    },
    {
     "name": "stderr",
     "output_type": "stream",
     "text": [
      " 97%|█████████▋| 247/254 [01:45<00:03,  1.99it/s]"
     ]
    },
    {
     "name": "stdout",
     "output_type": "stream",
     "text": [
      "IP: 192.168.1.1 | MAC: e0:19:54:f6:5d:ed\n",
      "IP: 192.168.1.100 | MAC: c6:39:be:b3:a5:dd\n",
      "IP: 192.168.1.110 | MAC: 48:43:dd:86:26:e5\n",
      "IP: 192.168.1.115 | MAC: 74:13:ea:82:2c:4c\n",
      "IP: 192.168.1.105 | MAC: 78:dd:12:3c:76:5c\n"
     ]
    }
   ],
   "source": [
    "cpu_count = multiprocessing.cpu_count()\n",
    "print(\"Verificando dispositivos conectados na rede\")\n",
    "print(\"Número de núcleos disponíveis para a tarefa:\", cpu_count)\n",
    "with ThreadPoolExecutor(max_workers=cpu_count) as executor:\n",
    "    executor.map(ping_an_ip, ips_in_network) # para cada ip em ips_na_rede, executa ping_an_ip\n",
    "    executor.shutdown\n",
    "\n",
    "for device in connected_devices:\n",
    "    print(\"IP:\", device['IP'], \"| MAC:\", device['MAC'])"
   ]
  },
  {
   "cell_type": "code",
   "execution_count": 44,
   "metadata": {},
   "outputs": [],
   "source": [
    "date_now = datetime.datetime.now()\n",
    "formated_date_now = date_now.strftime(\"%Y-%m-%d%H-%M-%S\")\n",
    "\n",
    "df = pd.DataFrame(connected_devices, columns=['IP', 'MAC'])\n",
    "complete_path_xlsx = f\"C:\\\\Users\\\\JoãoVictorSoaresJord\\\\Documents\\\\ArquivoDaAutomação\\\\relatorio_rede_{formated_date_now}.xlsx\"\n",
    "df.to_excel(complete_path_xlsx, index=False)"
   ]
  },
  {
   "cell_type": "code",
   "execution_count": 46,
   "metadata": {},
   "outputs": [],
   "source": [
    "open_gmail()\n",
    "pyautogui.PAUSE = 1\n",
    "\n",
    "create_email_message()\n",
    "pyautogui.PAUSE = 1\n",
    "\n",
    "attach_file_and_send_email()"
   ]
  }
 ],
 "metadata": {
  "kernelspec": {
   "display_name": "Python 3",
   "language": "python",
   "name": "python3"
  },
  "language_info": {
   "codemirror_mode": {
    "name": "ipython",
    "version": 3
   },
   "file_extension": ".py",
   "mimetype": "text/x-python",
   "name": "python",
   "nbconvert_exporter": "python",
   "pygments_lexer": "ipython3",
   "version": "3.12.3"
  }
 },
 "nbformat": 4,
 "nbformat_minor": 2
}
